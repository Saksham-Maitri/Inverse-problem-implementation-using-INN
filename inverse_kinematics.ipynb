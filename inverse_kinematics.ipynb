{
  "nbformat": 4,
  "nbformat_minor": 0,
  "metadata": {
    "colab": {
      "provenance": [],
      "gpuType": "T4"
    },
    "kernelspec": {
      "name": "python3",
      "display_name": "Python 3"
    },
    "language_info": {
      "name": "python"
    },
    "accelerator": "GPU"
  },
  "cells": [
    {
      "cell_type": "code",
      "execution_count": 1,
      "metadata": {
        "colab": {
          "base_uri": "https://localhost:8080/"
        },
        "id": "q--4Kt1bN8ZW",
        "outputId": "f4c64eff-3921-49a6-c40f-9107968386da"
      },
      "outputs": [
        {
          "output_type": "stream",
          "name": "stdout",
          "text": [
            "  Preparing metadata (setup.py) ... \u001b[?25l\u001b[?25hdone\n",
            "\u001b[2K   \u001b[90m━━━━━━━━━━━━━━━━━━━━━━━━━━━━━━━━━━━━━━━━\u001b[0m \u001b[32m363.4/363.4 MB\u001b[0m \u001b[31m1.5 MB/s\u001b[0m eta \u001b[36m0:00:00\u001b[0m\n",
            "\u001b[2K   \u001b[90m━━━━━━━━━━━━━━━━━━━━━━━━━━━━━━━━━━━━━━━━\u001b[0m \u001b[32m13.8/13.8 MB\u001b[0m \u001b[31m65.2 MB/s\u001b[0m eta \u001b[36m0:00:00\u001b[0m\n",
            "\u001b[2K   \u001b[90m━━━━━━━━━━━━━━━━━━━━━━━━━━━━━━━━━━━━━━━━\u001b[0m \u001b[32m24.6/24.6 MB\u001b[0m \u001b[31m33.6 MB/s\u001b[0m eta \u001b[36m0:00:00\u001b[0m\n",
            "\u001b[2K   \u001b[90m━━━━━━━━━━━━━━━━━━━━━━━━━━━━━━━━━━━━━━━━\u001b[0m \u001b[32m883.7/883.7 kB\u001b[0m \u001b[31m55.9 MB/s\u001b[0m eta \u001b[36m0:00:00\u001b[0m\n",
            "\u001b[2K   \u001b[90m━━━━━━━━━━━━━━━━━━━━━━━━━━━━━━━━━━━━━━━━\u001b[0m \u001b[32m664.8/664.8 MB\u001b[0m \u001b[31m2.0 MB/s\u001b[0m eta \u001b[36m0:00:00\u001b[0m\n",
            "\u001b[2K   \u001b[90m━━━━━━━━━━━━━━━━━━━━━━━━━━━━━━━━━━━━━━━━\u001b[0m \u001b[32m211.5/211.5 MB\u001b[0m \u001b[31m6.1 MB/s\u001b[0m eta \u001b[36m0:00:00\u001b[0m\n",
            "\u001b[2K   \u001b[90m━━━━━━━━━━━━━━━━━━━━━━━━━━━━━━━━━━━━━━━━\u001b[0m \u001b[32m56.3/56.3 MB\u001b[0m \u001b[31m10.0 MB/s\u001b[0m eta \u001b[36m0:00:00\u001b[0m\n",
            "\u001b[2K   \u001b[90m━━━━━━━━━━━━━━━━━━━━━━━━━━━━━━━━━━━━━━━━\u001b[0m \u001b[32m127.9/127.9 MB\u001b[0m \u001b[31m7.3 MB/s\u001b[0m eta \u001b[36m0:00:00\u001b[0m\n",
            "\u001b[2K   \u001b[90m━━━━━━━━━━━━━━━━━━━━━━━━━━━━━━━━━━━━━━━━\u001b[0m \u001b[32m207.5/207.5 MB\u001b[0m \u001b[31m5.5 MB/s\u001b[0m eta \u001b[36m0:00:00\u001b[0m\n",
            "\u001b[2K   \u001b[90m━━━━━━━━━━━━━━━━━━━━━━━━━━━━━━━━━━━━━━━━\u001b[0m \u001b[32m21.1/21.1 MB\u001b[0m \u001b[31m99.4 MB/s\u001b[0m eta \u001b[36m0:00:00\u001b[0m\n",
            "\u001b[?25h  Building wheel for FrEIA (setup.py) ... \u001b[?25l\u001b[?25hdone\n"
          ]
        }
      ],
      "source": [
        "!pip install -q matplotlib torch FrEIA"
      ]
    },
    {
      "cell_type": "code",
      "source": [
        "import pickle\n",
        "import matplotlib.pyplot as plt\n",
        "import torch\n",
        "import torch.nn as nn\n",
        "import torch.optim as optim\n",
        "import time\n",
        "from tqdm import tqdm\n",
        "import FrEIA.framework as Ff\n",
        "import FrEIA.modules as Fm\n",
        "\n",
        "device = torch.device('cuda' if torch.cuda.is_available() else 'cpu')\n",
        "print(\"Using device\", device)\n",
        "\n",
        "def subnet_fc(dims_in, dims_out):\n",
        "    return nn.Sequential(\n",
        "        nn.Linear(dims_in, 256), nn.LeakyReLU(0.1),\n",
        "        nn.Linear(256, 256), nn.LeakyReLU(0.1),\n",
        "        nn.Linear(256, dims_out)\n",
        "    )\n",
        "\n",
        "def INN(num_joints=4):\n",
        "    nodes = [Ff.InputNode(num_joints, name='input')]\n",
        "    for k in range(10):\n",
        "        nodes.append(Ff.Node(nodes[-1],\n",
        "                             Fm.PermuteRandom,\n",
        "                             {'seed': k},\n",
        "                             name=f'perm_{k}'))\n",
        "        nodes.append(Ff.Node(nodes[-1],\n",
        "                             Fm.GLOWCouplingBlock,\n",
        "                             {'subnet_constructor': subnet_fc, 'clamp': 1.9},\n",
        "                             name=f'glow_{k}'))\n",
        "    nodes.append(Ff.OutputNode(nodes[-1], name='output'))\n",
        "    return Ff.GraphINN(nodes)\n",
        "\n",
        "def end_edductor_pos(clampps,theta1,theta2,theta3):\n",
        "  l1=0.5\n",
        "  l2=0.5\n",
        "  l3=1.0\n",
        "  x_coordinate = l1 * torch.cos(theta1) + l2 * torch.cos(theta2 - theta1) + l3 * torch.cos(theta3 - theta1 - theta2)\n",
        "  y_coordinate = clampps + l1 * torch.sin(theta1) + l2 * torch.sin(theta2 - theta1) + l3 * torch.sin(theta3 - theta1 - theta2)\n",
        "  return x_coordinate, y_coordinate\n",
        "\n",
        "import torch\n",
        "\n",
        "def end_effector_pos(clampps, theta1, theta2, theta3):\n",
        "    l1 = 0.5\n",
        "    l2 = 0.5\n",
        "    l3 = 1.0\n",
        "    y = clampps + l1 * torch.sin(theta1) + l2 * torch.sin(theta2 - theta1) + l3 * torch.sin(theta3 - theta1 - theta2)\n",
        "    x = l1 * torch.cos(theta1) + l2 * torch.cos(theta2 - theta1) + l3 * torch.cos(theta3 - theta1 - theta2)\n",
        "    return x, y\n",
        "\n",
        "def train_set(n_samples=1000):\n",
        "    sigma1 = 0.25\n",
        "    sigma_others = 0.5\n",
        "    x1 = torch.randn(n_samples) * sigma1\n",
        "    x2 = torch.randn(n_samples) * sigma_others\n",
        "    x3 = torch.randn(n_samples) * sigma_others\n",
        "    x4 = torch.randn(n_samples) * sigma_others\n",
        "\n",
        "    y1, y2 = end_effector_pos(x1, x2, x3, x4)\n",
        "\n",
        "    x = torch.stack([x1, x2, x3, x4], dim=1)\n",
        "    y = torch.stack([y1, y2], dim=1)\n",
        "    return x, y"
      ],
      "metadata": {
        "colab": {
          "base_uri": "https://localhost:8080/"
        },
        "id": "ii9ZhLznOuHZ",
        "outputId": "f872fe35-bb5b-429a-deee-52b291cb9ccc"
      },
      "execution_count": 2,
      "outputs": [
        {
          "output_type": "stream",
          "name": "stdout",
          "text": [
            "Using device cuda\n"
          ]
        }
      ]
    },
    {
      "cell_type": "code",
      "source": [
        "def train_model(model, x_train, y_train, n_epochs=1, batch_size=512, lr=1e-4, weight_fk=10.0, weight_latent=1.0, weight_rev=5.0):\n",
        "    print(\"Starting INN training...\")\n",
        "    model.train()\n",
        "    optimizer = optim.Adam(model.parameters(), lr=lr)\n",
        "    mse_loss = nn.MSELoss()\n",
        "    latent_dim = 2  # Number of latent variables\n",
        "    start_time = time.time()\n",
        "\n",
        "    for epoch in range(n_epochs):\n",
        "        print('Current epoch',epoch)\n",
        "        model.train()\n",
        "        epoch_loss_f = 0.0\n",
        "        epoch_loss_z = 0.0\n",
        "        epoch_loss_rev = 0.0\n",
        "        epoch_loss_total = 0.0\n",
        "\n",
        "        n_batches = max(1, len(x_train) // batch_size)\n",
        "\n",
        "        for i in tqdm(range(n_batches)):\n",
        "            optimizer.zero_grad()\n",
        "\n",
        "            # Get batch\n",
        "            start = i * batch_size\n",
        "            end = min(len(x_train), (i + 1) * batch_size)\n",
        "            x_batch = x_train[start:end].to(device)\n",
        "            y_batch_gt = y_train[start:end].to(device)\n",
        "\n",
        "            # --- Forward Pass ---\n",
        "            out_inn_tensor, _ = model(x_batch)\n",
        "            y_pred = out_inn_tensor[:, :2]\n",
        "            z_pred = out_inn_tensor[:, 2:]\n",
        "\n",
        "            loss_f = mse_loss(y_pred, y_batch_gt)\n",
        "            loss_z = torch.mean(z_pred ** 2) / 2.0\n",
        "\n",
        "            # --- Reverse Pass ---\n",
        "            z_rev_sample = torch.randn(len(x_batch), latent_dim, device=device)\n",
        "            rev_input = torch.cat((y_batch_gt, z_rev_sample), dim=1)\n",
        "            x_rev_pred_tensor, _ = model(rev_input, rev=True)\n",
        "\n",
        "            y1, y2 = end_effector_pos(x_rev_pred_tensor[:, 0],\n",
        "                                      x_rev_pred_tensor[:, 1],\n",
        "                                      x_rev_pred_tensor[:, 2],\n",
        "                                      x_rev_pred_tensor[:, 3])\n",
        "            y_rev_pred = torch.stack([y1, y2], dim=1)\n",
        "\n",
        "            loss_rev = mse_loss(y_rev_pred, y_batch_gt)\n",
        "\n",
        "            # Total loss\n",
        "            total_loss = weight_fk * loss_f + weight_latent * loss_z + weight_rev * loss_rev\n",
        "            total_loss.backward()\n",
        "            optimizer.step()\n",
        "\n",
        "            # Accumulate losses\n",
        "            epoch_loss_f += loss_f.item()\n",
        "            epoch_loss_z += loss_z.item()\n",
        "            epoch_loss_rev += loss_rev.item()\n",
        "            epoch_loss_total += total_loss.item()\n",
        "\n",
        "            if (i + 1) % max(1, n_batches // 10) == 0 or i == n_batches - 1:\n",
        "                print(f\" Batch {i+1}/{n_batches} - Loss: {total_loss.item():.4f} \"\n",
        "                      f\"(Fk:{loss_f.item():.4f}, Z:{loss_z.item():.4f}, Rev:{loss_rev.item():.4f})\", end='\\r')\n",
        "\n",
        "        # Log epoch summary\n",
        "        avg_epoch_loss = epoch_loss_total / n_batches\n",
        "        avg_epoch_loss_f = epoch_loss_f / n_batches\n",
        "        avg_epoch_loss_z = epoch_loss_z / n_batches\n",
        "        avg_epoch_loss_rev = epoch_loss_rev / n_batches\n",
        "        elapsed_time = time.time() - start_time\n",
        "\n",
        "        print(f\"\\nEpoch {epoch+1}/{n_epochs} - Time: {elapsed_time:.1f}s \" f\"- Train Loss: {avg_epoch_loss:.4f} (F:{avg_epoch_loss_f:.4f}, Z:{avg_epoch_loss_z:.4f}, R:{avg_epoch_loss_rev:.4f})\")\n",
        "\n",
        "    print(\"Training finished.\")"
      ],
      "metadata": {
        "id": "66eLjRtwPs0V"
      },
      "execution_count": 5,
      "outputs": []
    },
    {
      "cell_type": "code",
      "source": [
        "model = INN()\n",
        "model.to(device) # Move the model to the appropriate device\n",
        "x_train, y_train = train_set(1000)\n",
        "x_train, y_train = x_train.to(device), y_train.to(device)\n",
        "train_model(model, x_train, y_train, n_epochs=10, batch_size=512, lr=1e-4, weight_fk=10.0, weight_latent=1.0, weight_rev=5.0)\n",
        "# save model\n",
        "torch.save(model.state_dict(), 'robot_arm.pth')\n",
        "\n",
        "# load model for testing\n",
        "model = INN()\n",
        "model.load_state_dict(torch.load('robot_arm.pth'))\n",
        "model.to(device) # Move the loaded model to the appropriate device\n",
        "model.eval()"
      ],
      "metadata": {
        "colab": {
          "base_uri": "https://localhost:8080/"
        },
        "id": "p2ytjDeFVaHM",
        "outputId": "a5188b47-a06d-4d38-ec52-a2329a063a8d"
      },
      "execution_count": 6,
      "outputs": [
        {
          "output_type": "stream",
          "name": "stdout",
          "text": [
            "Starting INN training...\n",
            "Current epoch 0\n"
          ]
        },
        {
          "output_type": "stream",
          "name": "stderr",
          "text": [
            "100%|██████████| 1/1 [00:00<00:00,  1.15it/s]\n"
          ]
        },
        {
          "output_type": "stream",
          "name": "stdout",
          "text": [
            " Batch 1/1 - Loss: 30.1654 (Fk:1.5503, Z:0.1084, Rev:2.9108)\r\n",
            "Epoch 1/10 - Time: 0.9s - Train Loss: 30.1654 (F:1.5503, Z:0.1084, R:2.9108)\n",
            "Current epoch 1\n"
          ]
        },
        {
          "output_type": "stream",
          "name": "stderr",
          "text": [
            "100%|██████████| 1/1 [00:00<00:00, 15.40it/s]\n"
          ]
        },
        {
          "output_type": "stream",
          "name": "stdout",
          "text": [
            " Batch 1/1 - Loss: 22.7371 (Fk:1.2405, Z:0.1105, Rev:2.0444)\r\n",
            "Epoch 2/10 - Time: 0.9s - Train Loss: 22.7371 (F:1.2405, Z:0.1105, R:2.0444)\n",
            "Current epoch 2\n"
          ]
        },
        {
          "output_type": "stream",
          "name": "stderr",
          "text": [
            "100%|██████████| 1/1 [00:00<00:00, 18.00it/s]\n"
          ]
        },
        {
          "output_type": "stream",
          "name": "stdout",
          "text": [
            " Batch 1/1 - Loss: 18.7019 (Fk:0.9810, Z:0.1175, Rev:1.7548)\r\n",
            "Epoch 3/10 - Time: 1.0s - Train Loss: 18.7019 (F:0.9810, Z:0.1175, R:1.7548)\n",
            "Current epoch 3\n"
          ]
        },
        {
          "output_type": "stream",
          "name": "stderr",
          "text": [
            "100%|██████████| 1/1 [00:00<00:00, 19.03it/s]\n"
          ]
        },
        {
          "output_type": "stream",
          "name": "stdout",
          "text": [
            " Batch 1/1 - Loss: 15.7638 (Fk:0.7597, Z:0.1382, Rev:1.6057)\r\n",
            "Epoch 4/10 - Time: 1.1s - Train Loss: 15.7638 (F:0.7597, Z:0.1382, R:1.6057)\n",
            "Current epoch 4\n"
          ]
        },
        {
          "output_type": "stream",
          "name": "stderr",
          "text": [
            "100%|██████████| 1/1 [00:00<00:00, 17.31it/s]\n"
          ]
        },
        {
          "output_type": "stream",
          "name": "stdout",
          "text": [
            " Batch 1/1 - Loss: 13.8767 (Fk:0.5777, Z:0.1692, Rev:1.5861)\r\n",
            "Epoch 5/10 - Time: 1.1s - Train Loss: 13.8767 (F:0.5777, Z:0.1692, R:1.5861)\n",
            "Current epoch 5\n"
          ]
        },
        {
          "output_type": "stream",
          "name": "stderr",
          "text": [
            "100%|██████████| 1/1 [00:00<00:00, 16.29it/s]\n"
          ]
        },
        {
          "output_type": "stream",
          "name": "stdout",
          "text": [
            " Batch 1/1 - Loss: 12.4899 (Fk:0.4530, Z:0.2107, Rev:1.5499)\r\n",
            "Epoch 6/10 - Time: 1.2s - Train Loss: 12.4899 (F:0.4530, Z:0.2107, R:1.5499)\n",
            "Current epoch 6\n"
          ]
        },
        {
          "output_type": "stream",
          "name": "stderr",
          "text": [
            "100%|██████████| 1/1 [00:00<00:00, 19.17it/s]\n"
          ]
        },
        {
          "output_type": "stream",
          "name": "stdout",
          "text": [
            " Batch 1/1 - Loss: 12.2290 (Fk:0.4113, Z:0.2518, Rev:1.5727)\r\n",
            "Epoch 7/10 - Time: 1.2s - Train Loss: 12.2290 (F:0.4113, Z:0.2518, R:1.5727)\n",
            "Current epoch 7\n"
          ]
        },
        {
          "output_type": "stream",
          "name": "stderr",
          "text": [
            "100%|██████████| 1/1 [00:00<00:00, 19.29it/s]\n"
          ]
        },
        {
          "output_type": "stream",
          "name": "stdout",
          "text": [
            " Batch 1/1 - Loss: 12.7152 (Fk:0.4412, Z:0.2689, Rev:1.6068)\r\n",
            "Epoch 8/10 - Time: 1.3s - Train Loss: 12.7152 (F:0.4412, Z:0.2689, R:1.6068)\n",
            "Current epoch 8\n"
          ]
        },
        {
          "output_type": "stream",
          "name": "stderr",
          "text": [
            "100%|██████████| 1/1 [00:00<00:00, 19.20it/s]\n"
          ]
        },
        {
          "output_type": "stream",
          "name": "stdout",
          "text": [
            " Batch 1/1 - Loss: 12.3104 (Fk:0.4611, Z:0.2553, Rev:1.4889)\r\n",
            "Epoch 9/10 - Time: 1.4s - Train Loss: 12.3104 (F:0.4611, Z:0.2553, R:1.4889)\n",
            "Current epoch 9\n"
          ]
        },
        {
          "output_type": "stream",
          "name": "stderr",
          "text": [
            "100%|██████████| 1/1 [00:00<00:00, 18.74it/s]"
          ]
        },
        {
          "output_type": "stream",
          "name": "stdout",
          "text": [
            " Batch 1/1 - Loss: 323.2849 (Fk:0.4512, Z:0.2284, Rev:63.7089)\r\n",
            "Epoch 10/10 - Time: 1.4s - Train Loss: 323.2849 (F:0.4512, Z:0.2284, R:63.7089)\n",
            "Training finished.\n"
          ]
        },
        {
          "output_type": "stream",
          "name": "stderr",
          "text": [
            "\n"
          ]
        },
        {
          "output_type": "execute_result",
          "data": {
            "text/plain": [
              "GraphINN(\n",
              "  (module_list): ModuleList(\n",
              "    (0): PermuteRandom()\n",
              "    (1): GLOWCouplingBlock(\n",
              "      (subnet1): Sequential(\n",
              "        (0): Linear(in_features=2, out_features=256, bias=True)\n",
              "        (1): LeakyReLU(negative_slope=0.1)\n",
              "        (2): Linear(in_features=256, out_features=256, bias=True)\n",
              "        (3): LeakyReLU(negative_slope=0.1)\n",
              "        (4): Linear(in_features=256, out_features=4, bias=True)\n",
              "      )\n",
              "      (subnet2): Sequential(\n",
              "        (0): Linear(in_features=2, out_features=256, bias=True)\n",
              "        (1): LeakyReLU(negative_slope=0.1)\n",
              "        (2): Linear(in_features=256, out_features=256, bias=True)\n",
              "        (3): LeakyReLU(negative_slope=0.1)\n",
              "        (4): Linear(in_features=256, out_features=4, bias=True)\n",
              "      )\n",
              "    )\n",
              "    (2): PermuteRandom()\n",
              "    (3): GLOWCouplingBlock(\n",
              "      (subnet1): Sequential(\n",
              "        (0): Linear(in_features=2, out_features=256, bias=True)\n",
              "        (1): LeakyReLU(negative_slope=0.1)\n",
              "        (2): Linear(in_features=256, out_features=256, bias=True)\n",
              "        (3): LeakyReLU(negative_slope=0.1)\n",
              "        (4): Linear(in_features=256, out_features=4, bias=True)\n",
              "      )\n",
              "      (subnet2): Sequential(\n",
              "        (0): Linear(in_features=2, out_features=256, bias=True)\n",
              "        (1): LeakyReLU(negative_slope=0.1)\n",
              "        (2): Linear(in_features=256, out_features=256, bias=True)\n",
              "        (3): LeakyReLU(negative_slope=0.1)\n",
              "        (4): Linear(in_features=256, out_features=4, bias=True)\n",
              "      )\n",
              "    )\n",
              "    (4): PermuteRandom()\n",
              "    (5): GLOWCouplingBlock(\n",
              "      (subnet1): Sequential(\n",
              "        (0): Linear(in_features=2, out_features=256, bias=True)\n",
              "        (1): LeakyReLU(negative_slope=0.1)\n",
              "        (2): Linear(in_features=256, out_features=256, bias=True)\n",
              "        (3): LeakyReLU(negative_slope=0.1)\n",
              "        (4): Linear(in_features=256, out_features=4, bias=True)\n",
              "      )\n",
              "      (subnet2): Sequential(\n",
              "        (0): Linear(in_features=2, out_features=256, bias=True)\n",
              "        (1): LeakyReLU(negative_slope=0.1)\n",
              "        (2): Linear(in_features=256, out_features=256, bias=True)\n",
              "        (3): LeakyReLU(negative_slope=0.1)\n",
              "        (4): Linear(in_features=256, out_features=4, bias=True)\n",
              "      )\n",
              "    )\n",
              "    (6): PermuteRandom()\n",
              "    (7): GLOWCouplingBlock(\n",
              "      (subnet1): Sequential(\n",
              "        (0): Linear(in_features=2, out_features=256, bias=True)\n",
              "        (1): LeakyReLU(negative_slope=0.1)\n",
              "        (2): Linear(in_features=256, out_features=256, bias=True)\n",
              "        (3): LeakyReLU(negative_slope=0.1)\n",
              "        (4): Linear(in_features=256, out_features=4, bias=True)\n",
              "      )\n",
              "      (subnet2): Sequential(\n",
              "        (0): Linear(in_features=2, out_features=256, bias=True)\n",
              "        (1): LeakyReLU(negative_slope=0.1)\n",
              "        (2): Linear(in_features=256, out_features=256, bias=True)\n",
              "        (3): LeakyReLU(negative_slope=0.1)\n",
              "        (4): Linear(in_features=256, out_features=4, bias=True)\n",
              "      )\n",
              "    )\n",
              "    (8): PermuteRandom()\n",
              "    (9): GLOWCouplingBlock(\n",
              "      (subnet1): Sequential(\n",
              "        (0): Linear(in_features=2, out_features=256, bias=True)\n",
              "        (1): LeakyReLU(negative_slope=0.1)\n",
              "        (2): Linear(in_features=256, out_features=256, bias=True)\n",
              "        (3): LeakyReLU(negative_slope=0.1)\n",
              "        (4): Linear(in_features=256, out_features=4, bias=True)\n",
              "      )\n",
              "      (subnet2): Sequential(\n",
              "        (0): Linear(in_features=2, out_features=256, bias=True)\n",
              "        (1): LeakyReLU(negative_slope=0.1)\n",
              "        (2): Linear(in_features=256, out_features=256, bias=True)\n",
              "        (3): LeakyReLU(negative_slope=0.1)\n",
              "        (4): Linear(in_features=256, out_features=4, bias=True)\n",
              "      )\n",
              "    )\n",
              "    (10): PermuteRandom()\n",
              "    (11): GLOWCouplingBlock(\n",
              "      (subnet1): Sequential(\n",
              "        (0): Linear(in_features=2, out_features=256, bias=True)\n",
              "        (1): LeakyReLU(negative_slope=0.1)\n",
              "        (2): Linear(in_features=256, out_features=256, bias=True)\n",
              "        (3): LeakyReLU(negative_slope=0.1)\n",
              "        (4): Linear(in_features=256, out_features=4, bias=True)\n",
              "      )\n",
              "      (subnet2): Sequential(\n",
              "        (0): Linear(in_features=2, out_features=256, bias=True)\n",
              "        (1): LeakyReLU(negative_slope=0.1)\n",
              "        (2): Linear(in_features=256, out_features=256, bias=True)\n",
              "        (3): LeakyReLU(negative_slope=0.1)\n",
              "        (4): Linear(in_features=256, out_features=4, bias=True)\n",
              "      )\n",
              "    )\n",
              "    (12): PermuteRandom()\n",
              "    (13): GLOWCouplingBlock(\n",
              "      (subnet1): Sequential(\n",
              "        (0): Linear(in_features=2, out_features=256, bias=True)\n",
              "        (1): LeakyReLU(negative_slope=0.1)\n",
              "        (2): Linear(in_features=256, out_features=256, bias=True)\n",
              "        (3): LeakyReLU(negative_slope=0.1)\n",
              "        (4): Linear(in_features=256, out_features=4, bias=True)\n",
              "      )\n",
              "      (subnet2): Sequential(\n",
              "        (0): Linear(in_features=2, out_features=256, bias=True)\n",
              "        (1): LeakyReLU(negative_slope=0.1)\n",
              "        (2): Linear(in_features=256, out_features=256, bias=True)\n",
              "        (3): LeakyReLU(negative_slope=0.1)\n",
              "        (4): Linear(in_features=256, out_features=4, bias=True)\n",
              "      )\n",
              "    )\n",
              "    (14): PermuteRandom()\n",
              "    (15): GLOWCouplingBlock(\n",
              "      (subnet1): Sequential(\n",
              "        (0): Linear(in_features=2, out_features=256, bias=True)\n",
              "        (1): LeakyReLU(negative_slope=0.1)\n",
              "        (2): Linear(in_features=256, out_features=256, bias=True)\n",
              "        (3): LeakyReLU(negative_slope=0.1)\n",
              "        (4): Linear(in_features=256, out_features=4, bias=True)\n",
              "      )\n",
              "      (subnet2): Sequential(\n",
              "        (0): Linear(in_features=2, out_features=256, bias=True)\n",
              "        (1): LeakyReLU(negative_slope=0.1)\n",
              "        (2): Linear(in_features=256, out_features=256, bias=True)\n",
              "        (3): LeakyReLU(negative_slope=0.1)\n",
              "        (4): Linear(in_features=256, out_features=4, bias=True)\n",
              "      )\n",
              "    )\n",
              "    (16): PermuteRandom()\n",
              "    (17): GLOWCouplingBlock(\n",
              "      (subnet1): Sequential(\n",
              "        (0): Linear(in_features=2, out_features=256, bias=True)\n",
              "        (1): LeakyReLU(negative_slope=0.1)\n",
              "        (2): Linear(in_features=256, out_features=256, bias=True)\n",
              "        (3): LeakyReLU(negative_slope=0.1)\n",
              "        (4): Linear(in_features=256, out_features=4, bias=True)\n",
              "      )\n",
              "      (subnet2): Sequential(\n",
              "        (0): Linear(in_features=2, out_features=256, bias=True)\n",
              "        (1): LeakyReLU(negative_slope=0.1)\n",
              "        (2): Linear(in_features=256, out_features=256, bias=True)\n",
              "        (3): LeakyReLU(negative_slope=0.1)\n",
              "        (4): Linear(in_features=256, out_features=4, bias=True)\n",
              "      )\n",
              "    )\n",
              "    (18): PermuteRandom()\n",
              "    (19): GLOWCouplingBlock(\n",
              "      (subnet1): Sequential(\n",
              "        (0): Linear(in_features=2, out_features=256, bias=True)\n",
              "        (1): LeakyReLU(negative_slope=0.1)\n",
              "        (2): Linear(in_features=256, out_features=256, bias=True)\n",
              "        (3): LeakyReLU(negative_slope=0.1)\n",
              "        (4): Linear(in_features=256, out_features=4, bias=True)\n",
              "      )\n",
              "      (subnet2): Sequential(\n",
              "        (0): Linear(in_features=2, out_features=256, bias=True)\n",
              "        (1): LeakyReLU(negative_slope=0.1)\n",
              "        (2): Linear(in_features=256, out_features=256, bias=True)\n",
              "        (3): LeakyReLU(negative_slope=0.1)\n",
              "        (4): Linear(in_features=256, out_features=4, bias=True)\n",
              "      )\n",
              "    )\n",
              "  )\n",
              ")"
            ]
          },
          "metadata": {},
          "execution_count": 6
        }
      ]
    },
    {
      "cell_type": "code",
      "source": [
        "def infer_x(model , x_test):\n",
        "  with torch.no_grad():\n",
        "    x_test = x_test.to(device)\n",
        "    out_inn_tensor, _ = model(x_test)\n",
        "    y_pred = out_inn_tensor[:, :2]\n",
        "    z_pred = out_inn_tensor[:, 2:]\n",
        "    return y_pred, z_pred\n",
        "\n",
        "# Example usage\n",
        "\n",
        "x_test = torch.randn(1, 4)\n",
        "y_pred, z_pred = infer_x(model, x_test)\n",
        "print(\"y_pred:\", y_pred)\n",
        "print(\"z_pred:\", z_pred)"
      ],
      "metadata": {
        "colab": {
          "base_uri": "https://localhost:8080/"
        },
        "id": "XIDEbBR1hCBI",
        "outputId": "9bd2da23-e24d-4912-8e3d-637df3fa29a5"
      },
      "execution_count": 7,
      "outputs": [
        {
          "output_type": "stream",
          "name": "stdout",
          "text": [
            "y_pred: tensor([[ 0.8257, -0.5086]], device='cuda:0')\n",
            "z_pred: tensor([[ 0.7319, -0.0539]], device='cuda:0')\n"
          ]
        }
      ]
    },
    {
      "cell_type": "code",
      "source": [
        "import torch\n",
        "\n",
        "def infer_y(model, y_test, n_samples=100):\n",
        "    model.eval()\n",
        "    device = next(model.parameters()).device\n",
        "\n",
        "    y_test = y_test.to(device)\n",
        "    if y_test.dim() == 1:\n",
        "        y_test = y_test.unsqueeze(0)\n",
        "    elif y_test.dim() != 2 or y_test.shape[1] != 2:\n",
        "        raise ValueError(f\"y_test should have shape [batch_size, 2] or [1, 2], but got {y_test.shape}\")\n",
        "\n",
        "    batch_size = y_test.shape[0]\n",
        "    y_dim = y_test.shape[1]\n",
        "    x_dim = model.dims_in[0][0]\n",
        "    latent_dim = x_dim - y_dim\n",
        "\n",
        "    if latent_dim <= 0:\n",
        "        raise ValueError(f\"Calculated latent dimension ({latent_dim}) is not positive. \"\n",
        "                         f\"Check model input dimension ({x_dim}) and y_test dimension ({y_dim}).\")\n",
        "\n",
        "    z_samples = torch.randn(batch_size, n_samples, latent_dim, device=device)\n",
        "    y_test_expanded = y_test.unsqueeze(1).expand(-1, n_samples, -1)\n",
        "    rev_input = torch.cat((y_test_expanded, z_samples), dim=2)\n",
        "    total_samples = batch_size * n_samples\n",
        "    rev_input_flat = rev_input.view(total_samples, x_dim)\n",
        "\n",
        "    with torch.no_grad():\n",
        "        x_pred_flat, _ = model(rev_input_flat, rev=True)\n",
        "\n",
        "    x_pred = x_pred_flat.view(batch_size, n_samples, x_dim)\n",
        "\n",
        "    if batch_size == 1:\n",
        "        x_pred = x_pred.squeeze(0)\n",
        "\n",
        "    return x_pred\n",
        "\n",
        "# Example usage\n",
        "y_test = torch.randn(1, 2)\n",
        "x_pred = infer_y(model, y_test)\n",
        "points = []\n",
        "for config in x_pred:\n",
        "  x_cor,y_cor = end_effector_pos(config[0], config[1], config[2], config[3])\n",
        "  points.append([x_cor,y_cor])\n",
        "\n",
        "# cuda to cpu\n",
        "points = [[point[0].cpu().numpy(), point[1].cpu().numpy()] for point in points]\n",
        "\n",
        "# plot the points\n",
        "plt.scatter([point[0] for point in points], [point[1] for point in points])\n",
        "plt.show()"
      ],
      "metadata": {
        "colab": {
          "base_uri": "https://localhost:8080/",
          "height": 430
        },
        "id": "8gso5mvghnF4",
        "outputId": "38bc6cc6-2cf8-4d92-85bf-dbc8f026738a"
      },
      "execution_count": 11,
      "outputs": [
        {
          "output_type": "display_data",
          "data": {
            "text/plain": [
              "<Figure size 640x480 with 1 Axes>"
            ],
            "image/png": "[encoded data removed]"
          },
          "metadata": {}
        }
      ]
    },
    {
      "cell_type": "code",
      "source": [],
      "metadata": {
        "id": "DxgAgnV9AUGk"
      },
      "execution_count": null,
      "outputs": []
    }
  ]
}